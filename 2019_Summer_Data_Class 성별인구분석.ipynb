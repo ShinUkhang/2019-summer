{
 "cells": [
  {
   "cell_type": "code",
   "execution_count": 31,
   "metadata": {},
   "outputs": [
    {
     "name": "stdout",
     "output_type": "stream",
     "text": [
      "서울시의 구를 입력하세요용산구\n"
     ]
    },
    {
     "data": {
      "image/png": "[encoded data removed]",
      "text/plain": [
       "<Figure size 432x288 with 1 Axes>"
      ]
     },
     "metadata": {},
     "output_type": "display_data"
    }
   ],
   "source": [
    "import matplotlib.pyplot as plt\n",
    "import csv\n",
    "plt.rc('font', family = 'Malgun Gothic')\n",
    "\n",
    "f=open('서울시구별인구자료.csv')\n",
    "data=csv.reader(f)\n",
    "\n",
    "local=input('서울시의 구를 입력하세요')\n",
    "\n",
    "total=[]\n",
    "totalrate=[]\n",
    "for row in data:\n",
    "    if local==row[0]:\n",
    "        total.append(int(row[2]))\n",
    "        totalrate.append(int(row[2])/int(total[0]))\n",
    "plt.bar(range(0,len(total)-1), totalrate[1:],label=local)\n",
    "plt.legend()\n",
    "plt.show()\n",
    "        "
   ]
  },
  {
   "cell_type": "code",
   "execution_count": 23,
   "metadata": {},
   "outputs": [
    {
     "name": "stdout",
     "output_type": "stream",
     "text": [
      "서울시의 구를 입력하세요종로구\n"
     ]
    },
    {
     "data": {
      "image/png": "[encoded data removed]",
      "text/plain": [
       "<Figure size 432x288 with 1 Axes>"
      ]
     },
     "metadata": {},
     "output_type": "display_data"
    },
    {
     "data": {
      "image/png": "[encoded data removed]",
      "text/plain": [
       "<Figure size 432x288 with 1 Axes>"
      ]
     },
     "metadata": {},
     "output_type": "display_data"
    }
   ],
   "source": [
    "import matplotlib.pyplot as plt\n",
    "import csv\n",
    "plt.rc('font', family = 'Malgun Gothic')\n",
    "\n",
    "f=open('서울시구별인구자료.csv')\n",
    "data=csv.reader(f)\n",
    "\n",
    "local=input('서울시의 구를 입력하세요')\n",
    "\n",
    "man=[]\n",
    "manrate=[]\n",
    "woman=[]\n",
    "womanrate=[]\n",
    "for row in data:\n",
    "    if local==row[0]:\n",
    "        man.append(int(row[3]))\n",
    "        manrate.append(int(row[3])/int(man[0]))\n",
    "        woman.append(int(row[4]))\n",
    "        womanrate.append(int(row[4])/int(man[0]))\n",
    "plt.bar(range(1,len(man)), manrate[1:],label='남자')\n",
    "plt.legend()\n",
    "plt.show()\n",
    "plt.bar(range(1,len(woman)), womanrate[1:],label='여자', color='r')\n",
    "plt.legend()\n",
    "plt.show()\n",
    "        "
   ]
  },
  {
   "cell_type": "code",
   "execution_count": 30,
   "metadata": {},
   "outputs": [
    {
     "name": "stdout",
     "output_type": "stream",
     "text": [
      "서울시의 구를 입력하세요중구\n"
     ]
    },
    {
     "data": {
      "image/png": "[encoded data removed]",
      "text/plain": [
       "<Figure size 432x288 with 1 Axes>"
      ]
     },
     "metadata": {},
     "output_type": "display_data"
    }
   ],
   "source": [
    "import matplotlib.pyplot as plt\n",
    "import csv\n",
    "plt.rc('font', family = 'Malgun Gothic')\n",
    "plt.rcParams['axes.unicode_minus']=False\n",
    "\n",
    "f=open('서울시구별인구자료.csv')\n",
    "data=csv.reader(f)\n",
    "\n",
    "local=input('서울시의 구를 입력하세요')\n",
    "\n",
    "man=[]\n",
    "manrate=[]\n",
    "woman=[]\n",
    "womanrate=[]\n",
    "for row in data:\n",
    "    if local==row[0]:\n",
    "        man.append(int(row[3]))\n",
    "        manrate.append(int(row[3])/int(man[0]))\n",
    "        woman.append(int(row[4]))\n",
    "        womanrate.append(-int(row[4])/int(man[0]))\n",
    "plt.barh(range(1,len(man)), manrate[1:],label='남자')\n",
    "plt.barh(range(1,len(woman)), womanrate[1:],label='여자', color='r')\n",
    "plt.legend()\n",
    "plt.show()\n",
    "        "
   ]
  },
  {
   "cell_type": "code",
   "execution_count": null,
   "metadata": {},
   "outputs": [],
   "source": [
    "import matplotlib.pyplot as plt\n",
    "import csv\n",
    "plt.rc('font', family = 'Malgun Gothic')\n",
    "\n",
    "f=open('서울시구별인구자료.csv')\n",
    "data=csv.reader(f)\n",
    "\n",
    "local=input('서울시의 구를 입력하세요')\n",
    "\n",
    "total=[]\n",
    "totalrate=[]\n",
    "for row in data:\n",
    "    if local==row[0]:\n",
    "        total.append(int(row[2]))\n",
    "        totalrate.append(int(row[2])/int(total[0]))\n",
    "\n",
    "for row in data:\n",
    "    \n",
    "\n",
    "plt.bar(range(1,len(total)), totalrate[1:],label=local)\n",
    "plt.legend()\n",
    "plt.show()\n",
    "        "
   ]
  }
 ],
 "metadata": {
  "kernelspec": {
   "display_name": "Python 3",
   "language": "python",
   "name": "python3"
  },
  "language_info": {
   "codemirror_mode": {
    "name": "ipython",
    "version": 3
   },
   "file_extension": ".py",
   "mimetype": "text/x-python",
   "name": "python",
   "nbconvert_exporter": "python",
   "pygments_lexer": "ipython3",
   "version": "3.6.5"
  }
 },
 "nbformat": 4,
 "nbformat_minor": 2
}
